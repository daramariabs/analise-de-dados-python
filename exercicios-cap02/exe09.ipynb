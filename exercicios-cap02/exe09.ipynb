{
 "cells": [
  {
   "cell_type": "markdown",
   "metadata": {},
   "source": [
    "##### Exercício 9 - Crie uma lista de 4 elementos. \n",
    "- O primeiro elemento deve ser uma string, \n",
    "- o segundo uma tupla de 2 elementos, o terceiro um dcionário com 2 chaves e 2 valores e \n",
    "- o quarto elemento um valor do tipo float.\n",
    "- Imprima a lista na tela.\n"
   ]
  },
  {
   "cell_type": "code",
   "execution_count": 1,
   "metadata": {},
   "outputs": [
    {
     "name": "stdout",
     "output_type": "stream",
     "text": [
      "notebook\n",
      "(45, 50)\n",
      "{'cor': 'azul', 'numero': 56}\n",
      "3.14\n"
     ]
    }
   ],
   "source": [
    "lista = ['notebook',(45,50),{'cor':'azul', 'numero':56},3.14]\n",
    "\n",
    "for i in lista:\n",
    "    print(f'{i}')\n",
    "\n"
   ]
  }
 ],
 "metadata": {
  "kernelspec": {
   "display_name": "Python 3.8.10 64-bit",
   "language": "python",
   "name": "python3"
  },
  "language_info": {
   "codemirror_mode": {
    "name": "ipython",
    "version": 3
   },
   "file_extension": ".py",
   "mimetype": "text/x-python",
   "name": "python",
   "nbconvert_exporter": "python",
   "pygments_lexer": "ipython3",
   "version": "3.8.10"
  },
  "orig_nbformat": 4,
  "vscode": {
   "interpreter": {
    "hash": "916dbcbb3f70747c44a77c7bcd40155683ae19c65e1c03b4aa3499c5328201f1"
   }
  }
 },
 "nbformat": 4,
 "nbformat_minor": 2
}

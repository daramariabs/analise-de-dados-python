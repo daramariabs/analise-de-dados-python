{
 "cells": [
  {
   "cell_type": "markdown",
   "metadata": {},
   "source": [
    "#### Exercício 3 - Crie duas strings e concatene as duas em uma terceira string"
   ]
  },
  {
   "cell_type": "code",
   "execution_count": 3,
   "metadata": {},
   "outputs": [
    {
     "name": "stdout",
     "output_type": "stream",
     "text": [
      "Did I drive you away? I know what you'll say You say, \"Oh, sing one we know\"\n"
     ]
    }
   ],
   "source": [
    "frase1 = 'Did I drive you away?'\n",
    "frase2 = \"I know what you'll say\"\n",
    "frase3 = 'You say, \"Oh, sing one we know\"'\n",
    "\n",
    "primeiro_conjunto = frase1 + ' ' + frase2\n",
    "segundo_conjunto = primeiro_conjunto + ' ' + frase3\n",
    "\n",
    "print(segundo_conjunto)"
   ]
  }
 ],
 "metadata": {
  "kernelspec": {
   "display_name": "Python 3.8.10 64-bit",
   "language": "python",
   "name": "python3"
  },
  "language_info": {
   "codemirror_mode": {
    "name": "ipython",
    "version": 3
   },
   "file_extension": ".py",
   "mimetype": "text/x-python",
   "name": "python",
   "nbconvert_exporter": "python",
   "pygments_lexer": "ipython3",
   "version": "3.8.10"
  },
  "orig_nbformat": 4,
  "vscode": {
   "interpreter": {
    "hash": "916dbcbb3f70747c44a77c7bcd40155683ae19c65e1c03b4aa3499c5328201f1"
   }
  }
 },
 "nbformat": 4,
 "nbformat_minor": 2
}

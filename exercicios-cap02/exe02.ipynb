{
 "cells": [
  {
   "cell_type": "markdown",
   "metadata": {},
   "source": [
    "#### Exercício 2 - Crie uma lista de 5 objetos e imprima na tela"
   ]
  },
  {
   "cell_type": "code",
   "execution_count": 1,
   "metadata": {},
   "outputs": [
    {
     "name": "stdout",
     "output_type": "stream",
     "text": [
      "['notebook', 'controle', 'mouse', 'teclado', 'celular']\n"
     ]
    }
   ],
   "source": [
    "lista = list()\n",
    "for i in range(5):\n",
    "    objeto = input(\"Informe um objeto: \")\n",
    "    lista.append(objeto)\n",
    "\n",
    "print(lista)"
   ]
  }
 ],
 "metadata": {
  "kernelspec": {
   "display_name": "Python 3.9.12 ('base')",
   "language": "python",
   "name": "python3"
  },
  "language_info": {
   "codemirror_mode": {
    "name": "ipython",
    "version": 3
   },
   "file_extension": ".py",
   "mimetype": "text/x-python",
   "name": "python",
   "nbconvert_exporter": "python",
   "pygments_lexer": "ipython3",
   "version": "3.9.12"
  },
  "orig_nbformat": 4,
  "vscode": {
   "interpreter": {
    "hash": "9ea11ec022152b3214da35e79683b54ff6a5551ba5a809758f36786a7842cf45"
   }
  }
 },
 "nbformat": 4,
 "nbformat_minor": 2
}
